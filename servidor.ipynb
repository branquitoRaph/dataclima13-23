{
 "cells": [
  {
   "cell_type": "code",
   "execution_count": null,
   "metadata": {},
   "outputs": [],
   "source": [
    "import os\n",
    "import pysftp\n",
    "from dotenv import load_dotenv"
   ]
  },
  {
   "cell_type": "code",
   "execution_count": null,
   "metadata": {},
   "outputs": [],
   "source": [
    "# Carregando variaveis do arquivo .env\n",
    "load_dotenv()"
   ]
  },
  {
   "cell_type": "code",
   "execution_count": null,
   "metadata": {},
   "outputs": [],
   "source": [
    "def conectar_SFTP() -> pysftp.Connection:\n",
    "    # Indicando ao ftp não buscar uma chave SSH\n",
    "    cnopts = pysftp.CnOpts()\n",
    "    cnopts.hostkeys = None\n",
    "\n",
    "    # Criando objeto de conexão\n",
    "    sftp = pysftp.Connection(host=os.getenv(\"HOSTNAME\"),\n",
    "                            username=os.getenv(\"USERNAME\"),\n",
    "                            password=os.getenv(\"PASSWORD\"),\n",
    "                            port=int(os.getenv(\"PORT\")),\n",
    "                            cnopts=cnopts)\n",
    "    \n",
    "    return sftp"
   ]
  }
 ],
 "metadata": {
  "language_info": {
   "name": "python"
  },
  "orig_nbformat": 4
 },
 "nbformat": 4,
 "nbformat_minor": 2
}
