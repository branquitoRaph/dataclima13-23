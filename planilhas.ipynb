{
 "cells": [
  {
   "cell_type": "code",
   "execution_count": null,
   "metadata": {},
   "outputs": [],
   "source": [
    "import os\n",
    "import pandas as pd"
   ]
  },
  {
   "cell_type": "code",
   "execution_count": null,
   "metadata": {},
   "outputs": [],
   "source": [
    "# Caminho para a pasta onde estão os arquivos\n",
    "pasta_dados_ftp = \"C:/Users/henrique.dalmagro/Desktop/satdes-arquivos_ftp\"\n",
    "pasta_planilhas_ftp = \"C:/Users/henrique.dalmagro/Desktop/satdes-planilhas_ftp\"\n",
    "\n",
    "# Carrega pastas no diretorio\n",
    "pastas = os.listdir(pasta_dados_ftp)\n",
    "\n",
    "for pasta in pastas:\n",
    "    # Obtendo o caminho da pasta\n",
    "    caminho_pasta = os.path.join(pasta_dados_ftp, pasta)\n",
    " \n",
    "    dados_estacao = pd.DataFrame()\n",
    "\n",
    "    print(caminho_pasta)\n",
    "\n",
    "    # Verifica se o caminho da pasta existe\n",
    "    if os.path.exists(caminho_pasta):\n",
    "        # Percorre os arquivos da pasta\n",
    "        arquivos_pasta = os.listdir(caminho_pasta)\n",
    "\n",
    "        for arquivo in arquivos_pasta:\n",
    "            # Obtendo o caminho do arquivo\n",
    "            caminho_arquivo = os.path.join(caminho_pasta, arquivo)\n",
    "\n",
    "            # Verifica se o arquivo não esta vazio\n",
    "            if os.path.getsize(caminho_arquivo) > 0:\n",
    "                # Lendo arquivo .proc (csv: ,)\n",
    "                dados_arquivo = pd.read_csv(caminho_arquivo, header=None)\n",
    "                nome_arquivo = os.path.splitext(arquivo)[0]\n",
    "\n",
    "                # Atribui o index como o nome do arquivo\n",
    "                dados_arquivo.index = [nome_arquivo]\n",
    "\n",
    "                # Adiciona a leitura da pasta\n",
    "                dados_estacao = pd.concat([dados_estacao, dados_arquivo])\n",
    "\n",
    "    # Define nome do arquivo Excel\n",
    "    nome_arquivo_excel = f\"{pasta}.xlsx\"\n",
    "    caminho_arquivo_excel = os.path.join(pasta_planilhas_ftp, nome_arquivo_excel)\n",
    "\n",
    "    # Exportando o dataframae\n",
    "    dados_estacao.to_excel(caminho_arquivo_excel, index=True)"
   ]
  }
 ],
 "metadata": {
  "language_info": {
   "name": "python"
  },
  "orig_nbformat": 4
 },
 "nbformat": 4,
 "nbformat_minor": 2
}
