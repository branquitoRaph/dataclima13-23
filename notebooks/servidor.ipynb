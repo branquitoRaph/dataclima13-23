{
 "cells": [
  {
   "cell_type": "code",
   "execution_count": null,
   "metadata": {},
   "outputs": [],
   "source": [
    "import os\n",
    "import pysftp\n",
    "import psycopg2\n",
    "from dotenv import load_dotenv"
   ]
  },
  {
   "cell_type": "code",
   "execution_count": null,
   "metadata": {},
   "outputs": [],
   "source": [
    "# Carregando variaveis do arquivo .env\n",
    "load_dotenv()"
   ]
  },
  {
   "cell_type": "code",
   "execution_count": null,
   "metadata": {},
   "outputs": [],
   "source": [
    "def conectar_SFTP() -> pysftp.Connection:\n",
    "    \"\"\"Função para conectar a um servidor SFTP de dados\n",
    "\n",
    "    Returns:\n",
    "        pysftp.Connection: Objeto de conexão com FTP\n",
    "    \"\"\"\n",
    "    # Indicando ao ftp não buscar uma chave SSH\n",
    "    cnopts = pysftp.CnOpts()\n",
    "    cnopts.hostkeys = None\n",
    "\n",
    "    # Criando objeto de conexão\n",
    "    sftp = pysftp.Connection(host=os.getenv(\"FTP_HOST\"),\n",
    "                            username=os.getenv(\"FTP_USER\"),\n",
    "                            password=os.getenv(\"FTP_PASS\"),\n",
    "                            port=22022,\n",
    "                            cnopts=cnopts)\n",
    "    # Retornando conexão\n",
    "    return sftp"
   ]
  },
  {
   "cell_type": "code",
   "execution_count": null,
   "metadata": {},
   "outputs": [],
   "source": [
    "def conectar_SGBD() -> psycopg2.connection:\n",
    "    \"\"\"Função para criar uma conexão com banco de dados PostgreSQL\n",
    "\n",
    "    Returns:\n",
    "        psycopg2.connection: Objeto de conexão com DB\n",
    "    \"\"\"\n",
    "    # Criando conexão com banco de dados\n",
    "    conn = psycopg2.connect(host=os.getenv(\"DB_HOST\"),\n",
    "                            database=os.getenv(\"DB_NAME\"),\n",
    "                            user=os.getenv(\"DB_USER\"),\n",
    "                            password=os.getenv(\"DB_PASS\"),\n",
    "                            port=5432)\n",
    "    # Retornando conexão\n",
    "    return conn"
   ]
  }
 ],
 "metadata": {
  "kernelspec": {
   "display_name": "Python 3",
   "language": "python",
   "name": "python3"
  },
  "language_info": {
   "codemirror_mode": {
    "name": "ipython",
    "version": 3
   },
   "file_extension": ".py",
   "mimetype": "text/x-python",
   "name": "python",
   "nbconvert_exporter": "python",
   "pygments_lexer": "ipython3",
   "version": "3.11.3"
  },
  "orig_nbformat": 4
 },
 "nbformat": 4,
 "nbformat_minor": 2
}
